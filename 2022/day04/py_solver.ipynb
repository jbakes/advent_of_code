{
 "cells": [
  {
   "cell_type": "code",
   "execution_count": 32,
   "id": "22ba1fd3-f89d-4919-b070-04e697b10051",
   "metadata": {},
   "outputs": [],
   "source": [
    "f = open('input.txt')\n",
    "in_txt = f.read()"
   ]
  },
  {
   "cell_type": "code",
   "execution_count": 34,
   "id": "36b3cd9f-a192-40ad-b1b3-81363ee88fff",
   "metadata": {},
   "outputs": [
    {
     "data": {
      "text/plain": [
       "830"
      ]
     },
     "execution_count": 34,
     "metadata": {},
     "output_type": "execute_result"
    }
   ],
   "source": [
    "num_overlapped = 0\n",
    "for line in in_txt.splitlines():\n",
    "    elf_1, elf_2 = line.split(',')\n",
    "    s1, e1 = elf_1.split('-')\n",
    "    s2, e2 = elf_2.split('-')\n",
    "    if overlaps(int(s1),int(e1),int(s2),int(e2)):\n",
    "        num_overlapped += 1\n",
    "        # print(line)\n",
    "num_overlapped"
   ]
  },
  {
   "cell_type": "code",
   "execution_count": 28,
   "id": "59600f2a-f1a3-4b33-ac9a-d7bdf7fe91ec",
   "metadata": {},
   "outputs": [],
   "source": [
    "def overlaps(s1, e1, s2, e2):\n",
    "    if contains(s1, e1, s2, e2):\n",
    "        return 1\n",
    "    if s1 >= s2 and s1 <= e2:\n",
    "        # print('first in second')\n",
    "        return 1\n",
    "    elif e1 >= s2 and e1 <= e2:\n",
    "        # print('second in first')\n",
    "        return 1\n",
    "    return 0"
   ]
  },
  {
   "cell_type": "code",
   "execution_count": 23,
   "id": "b644781f-7283-41f7-9263-5e2441ea4213",
   "metadata": {},
   "outputs": [],
   "source": [
    "def contains(s1, e1, s2, e2):\n",
    "    if s1 >= s2 and e1 <= e2:\n",
    "        # print('first in second')\n",
    "        return 1\n",
    "    elif s1 <= s2 and e1 >= e2:\n",
    "        # print('second in first')\n",
    "        return 1\n",
    "    return 0"
   ]
  },
  {
   "cell_type": "code",
   "execution_count": null,
   "id": "1f8996a6-b0b0-4956-b10f-1331dd80379d",
   "metadata": {},
   "outputs": [],
   "source": []
  }
 ],
 "metadata": {
  "kernelspec": {
   "display_name": "Python 3 (ipykernel)",
   "language": "python",
   "name": "python3"
  },
  "language_info": {
   "codemirror_mode": {
    "name": "ipython",
    "version": 3
   },
   "file_extension": ".py",
   "mimetype": "text/x-python",
   "name": "python",
   "nbconvert_exporter": "python",
   "pygments_lexer": "ipython3",
   "version": "3.9.13"
  }
 },
 "nbformat": 4,
 "nbformat_minor": 5
}
