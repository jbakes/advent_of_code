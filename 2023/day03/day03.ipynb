{
 "cells": [
  {
   "cell_type": "code",
   "execution_count": 1,
   "id": "060bdb19-205b-4f25-9fd9-ba6c44e30442",
   "metadata": {},
   "outputs": [],
   "source": [
    "import re\n",
    "from aocd import get_data"
   ]
  },
  {
   "cell_type": "code",
   "execution_count": 21,
   "id": "d82c2c3a-ede7-4d9c-8de7-4c52076f2e66",
   "metadata": {},
   "outputs": [],
   "source": [
    "data = get_data(day=3, year=2023)\n",
    "data = data.splitlines()"
   ]
  },
  {
   "cell_type": "code",
   "execution_count": 15,
   "id": "f50da86c-51d8-4a08-ad18-4740f29f6e2c",
   "metadata": {},
   "outputs": [],
   "source": [
    "data = '''467..114..\n",
    "...*......\n",
    "..35..633.\n",
    "......#...\n",
    "617*......\n",
    ".....+.58.\n",
    "..592.....\n",
    "......755.\n",
    "...$.*....\n",
    ".664.598..'''\n",
    "data = data.splitlines()"
   ]
  },
  {
   "cell_type": "code",
   "execution_count": 4,
   "id": "a6d72e71-b52d-4742-ac8c-b16995594dbe",
   "metadata": {},
   "outputs": [
    {
     "data": {
      "text/plain": [
       "['467', '114']"
      ]
     },
     "execution_count": 4,
     "metadata": {},
     "output_type": "execute_result"
    }
   ],
   "source": [
    "p = re.compile('(\\d+)')\n",
    "p.findall(data[0])"
   ]
  },
  {
   "cell_type": "code",
   "execution_count": 31,
   "id": "4713919a-816a-4d21-9ff2-479d42a24e42",
   "metadata": {},
   "outputs": [],
   "source": [
    "sym_pattern = re.compile('[^\\d\\.]')\n",
    "sym = []\n",
    "sym_set = set()\n",
    "for i in range(len(data)):\n",
    "    for j in range(len(data[i])):\n",
    "        if sym_pattern.search(data[i][j]):\n",
    "            sym_set.add(data[i][j])\n",
    "            sym.append((i,j))"
   ]
  },
  {
   "cell_type": "code",
   "execution_count": 32,
   "id": "1b8a7356-ddf1-4f9d-b03d-7b1aa6f46994",
   "metadata": {},
   "outputs": [
    {
     "data": {
      "text/plain": [
       "{'#', '$', '%', '&', '*', '+', '-', '/', '=', '@'}"
      ]
     },
     "execution_count": 32,
     "metadata": {},
     "output_type": "execute_result"
    }
   ],
   "source": [
    "sym_set"
   ]
  },
  {
   "cell_type": "code",
   "execution_count": 17,
   "id": "b8bb999f-8d8f-499e-a4ee-c6f2250fb389",
   "metadata": {},
   "outputs": [
    {
     "data": {
      "text/plain": [
       "[(1, 3), (3, 6), (4, 3), (5, 5), (8, 3), (8, 5)]"
      ]
     },
     "execution_count": 17,
     "metadata": {},
     "output_type": "execute_result"
    }
   ],
   "source": [
    "sym[:10]"
   ]
  },
  {
   "cell_type": "code",
   "execution_count": 37,
   "id": "d6c144ab-63b6-4cd2-a9c7-c96f7bea46f1",
   "metadata": {},
   "outputs": [],
   "source": [
    "symd = {}\n",
    "for s in sym:\n",
    "    symd[s] = []"
   ]
  },
  {
   "cell_type": "code",
   "execution_count": 38,
   "id": "e327b6aa-7a40-4491-8862-f48fce347063",
   "metadata": {},
   "outputs": [],
   "source": [
    "# (0, 10, 15)\n",
    "def check_range(row, start, end):\n",
    "    for s in sym:\n",
    "        if s[0] >= row - 1 and s[0] <= row + 1 and s[1] >= start - 1 and s[1] <= end:\n",
    "            return s\n",
    "    return None"
   ]
  },
  {
   "cell_type": "code",
   "execution_count": 39,
   "id": "614c3315-55b2-4222-b083-0006496a6b85",
   "metadata": {},
   "outputs": [],
   "source": [
    "s = 0\n",
    "for i in range(len(data)):\n",
    "    for m in p.finditer(data[i]):\n",
    "        if check_range(i, m.start(), m.end()):\n",
    "            #print('%d: %03d-%03d: %s' % (i, m.start(), m.end(), m.group(0)))\n",
    "            #s += int(m.group(0))\n",
    "            symd[check_range(i, m.start(), m.end())].append( m.group(0))"
   ]
  },
  {
   "cell_type": "code",
   "execution_count": 41,
   "id": "fa61cda9-f29c-48de-8ab2-6bfac275d810",
   "metadata": {},
   "outputs": [],
   "source": [
    "s = 0\n",
    "for value in symd.values():\n",
    "    if len(value) == 2:\n",
    "        s += int(value[0]) * int(value[1])"
   ]
  },
  {
   "cell_type": "code",
   "execution_count": 42,
   "id": "1dec8d5b-c4da-4195-b99d-a3c31bd6aadf",
   "metadata": {},
   "outputs": [
    {
     "data": {
      "text/plain": [
       "84495585"
      ]
     },
     "execution_count": 42,
     "metadata": {},
     "output_type": "execute_result"
    }
   ],
   "source": [
    "s"
   ]
  },
  {
   "cell_type": "code",
   "execution_count": null,
   "id": "45541666-3583-41c8-a198-e92c1405b9ac",
   "metadata": {},
   "outputs": [],
   "source": []
  }
 ],
 "metadata": {
  "kernelspec": {
   "display_name": "Python 3 (ipykernel)",
   "language": "python",
   "name": "python3"
  },
  "language_info": {
   "codemirror_mode": {
    "name": "ipython",
    "version": 3
   },
   "file_extension": ".py",
   "mimetype": "text/x-python",
   "name": "python",
   "nbconvert_exporter": "python",
   "pygments_lexer": "ipython3",
   "version": "3.9.13"
  }
 },
 "nbformat": 4,
 "nbformat_minor": 5
}
