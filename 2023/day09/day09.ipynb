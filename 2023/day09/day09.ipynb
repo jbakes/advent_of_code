{
 "cells": [
  {
   "cell_type": "code",
   "execution_count": 4,
   "id": "f8ac5e57-bc3b-4dc0-9cd3-ad698c77508a",
   "metadata": {},
   "outputs": [],
   "source": [
    "import numpy as np\n",
    "from scipy.optimize import curve_fit\n",
    "\n",
    "import re\n",
    "from aocd import get_data\n",
    "\n",
    "data = get_data(day=9, year=2023)\n",
    "data = data.splitlines()"
   ]
  },
  {
   "cell_type": "code",
   "execution_count": 81,
   "id": "bddb3a14-2d74-4f77-8bde-da67def6b0f4",
   "metadata": {},
   "outputs": [],
   "source": [
    "def get_next_value(line):\n",
    "    row = [int(x) for x in line.split()]\n",
    "\n",
    "    # Part 2 :D \n",
    "    row.reverse()\n",
    "\n",
    "    rows = [row]\n",
    "\n",
    "    i = 0\n",
    "    done = False\n",
    "    while not done:\n",
    "        rows.append([rows[i][j+1] - rows[i][j] for j in range(len(rows[i])-1)])\n",
    "        i += 1\n",
    "        if rows[i][0] == 0 and rows[i][1] == 0 and rows[i][-1] == 0:\n",
    "            done = True\n",
    "\n",
    "    rows[i].append(0)\n",
    "\n",
    "    for j in range(i):\n",
    "        k = i - 1 - j\n",
    "        rows[k].append(rows[k][-1] + rows[k+1][-1])\n",
    "    return rows[0][-1]"
   ]
  },
  {
   "cell_type": "code",
   "execution_count": 82,
   "id": "c6a39b85-d3cd-42f4-a98d-589978a13985",
   "metadata": {},
   "outputs": [
    {
     "data": {
      "text/plain": [
       "5"
      ]
     },
     "execution_count": 82,
     "metadata": {},
     "output_type": "execute_result"
    }
   ],
   "source": [
    "# 0 3 6 9 12 15\n",
    "# 1 3 6 10 15 21\n",
    "# 10 13 16 21 30 45\n",
    "get_next_value('10 13 16 21 30 45')"
   ]
  },
  {
   "cell_type": "code",
   "execution_count": 83,
   "id": "e6d1dc4a-1ae3-4139-961c-0684361d2d25",
   "metadata": {},
   "outputs": [],
   "source": [
    "s = 0\n",
    "for line in data:\n",
    "    s += get_next_value(line)"
   ]
  },
  {
   "cell_type": "code",
   "execution_count": 84,
   "id": "a7a94180-805d-46d1-b175-3fe8386d42ae",
   "metadata": {},
   "outputs": [
    {
     "data": {
      "text/plain": [
       "1057"
      ]
     },
     "execution_count": 84,
     "metadata": {},
     "output_type": "execute_result"
    }
   ],
   "source": [
    "s"
   ]
  },
  {
   "cell_type": "code",
   "execution_count": null,
   "id": "5969d17d-6c6e-4593-9e30-34f76f6e0cc6",
   "metadata": {},
   "outputs": [],
   "source": []
  }
 ],
 "metadata": {
  "kernelspec": {
   "display_name": "Python 3 (ipykernel)",
   "language": "python",
   "name": "python3"
  },
  "language_info": {
   "codemirror_mode": {
    "name": "ipython",
    "version": 3
   },
   "file_extension": ".py",
   "mimetype": "text/x-python",
   "name": "python",
   "nbconvert_exporter": "python",
   "pygments_lexer": "ipython3",
   "version": "3.9.13"
  }
 },
 "nbformat": 4,
 "nbformat_minor": 5
}
