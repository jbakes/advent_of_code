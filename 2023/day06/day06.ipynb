{
 "cells": [
  {
   "cell_type": "code",
   "execution_count": 3,
   "id": "654d4985-2dc5-4bfa-9681-c95cade3b45e",
   "metadata": {},
   "outputs": [],
   "source": [
    "import re\n",
    "from aocd import get_data\n",
    "\n",
    "data = get_data(day=6, year=2023)\n",
    "data = data.splitlines()"
   ]
  },
  {
   "cell_type": "code",
   "execution_count": 4,
   "id": "95440aec-4185-4994-9451-54589b916b49",
   "metadata": {},
   "outputs": [
    {
     "data": {
      "text/plain": [
       "['Time:        46     80     78     66',\n",
       " 'Distance:   214   1177   1402   1024']"
      ]
     },
     "execution_count": 4,
     "metadata": {},
     "output_type": "execute_result"
    }
   ],
   "source": [
    "data"
   ]
  },
  {
   "cell_type": "code",
   "execution_count": 9,
   "id": "50e61a55-fbdf-473d-b321-9005e9ab94f7",
   "metadata": {},
   "outputs": [],
   "source": [
    "# part 1\n",
    "times = [46, 80, 78, 66]\n",
    "dist  = [214, 1177, 1402, 1024]\n",
    "\n",
    "score = []\n",
    "for i in range(len(times)):\n",
    "    wins = 0\n",
    "    for j in range(times[i]):\n",
    "        if (times[i] - j) * j > dist[i]:\n",
    "            wins += 1\n",
    "    score.append(wins)"
   ]
  },
  {
   "cell_type": "code",
   "execution_count": 10,
   "id": "8cbf7a9e-6536-4326-92ca-08199f96b3ce",
   "metadata": {},
   "outputs": [
    {
     "data": {
      "text/plain": [
       "[35, 41, 21, 17]"
      ]
     },
     "execution_count": 10,
     "metadata": {},
     "output_type": "execute_result"
    }
   ],
   "source": [
    "score"
   ]
  },
  {
   "cell_type": "code",
   "execution_count": 11,
   "id": "c6b04c9b-bf0f-46af-b6f2-491724ee76ba",
   "metadata": {},
   "outputs": [
    {
     "data": {
      "text/plain": [
       "512295"
      ]
     },
     "execution_count": 11,
     "metadata": {},
     "output_type": "execute_result"
    }
   ],
   "source": [
    "35*41*21*17"
   ]
  },
  {
   "cell_type": "code",
   "execution_count": 12,
   "id": "3446605b-b60f-46d3-b6a7-de44c33aa33d",
   "metadata": {},
   "outputs": [
    {
     "name": "stdout",
     "output_type": "stream",
     "text": [
      "5138492\n"
     ]
    }
   ],
   "source": [
    "times = [46807866]\n",
    "dist  = [214117714021024]\n",
    "\n",
    "for j in range(46807866):\n",
    "    if (46807866 - j) * j > 214117714021024:\n",
    "        print(j)\n",
    "        break"
   ]
  },
  {
   "cell_type": "code",
   "execution_count": 13,
   "id": "3bf5653c-4258-4454-aaac-9ffec90740bd",
   "metadata": {},
   "outputs": [
    {
     "data": {
      "text/plain": [
       "36530882"
      ]
     },
     "execution_count": 13,
     "metadata": {},
     "output_type": "execute_result"
    }
   ],
   "source": [
    "46807866 - 5138492 * 2"
   ]
  },
  {
   "cell_type": "code",
   "execution_count": null,
   "id": "1d8707b8-108f-45eb-8709-e01cbb02b67f",
   "metadata": {},
   "outputs": [],
   "source": []
  }
 ],
 "metadata": {
  "kernelspec": {
   "display_name": "Python 3 (ipykernel)",
   "language": "python",
   "name": "python3"
  },
  "language_info": {
   "codemirror_mode": {
    "name": "ipython",
    "version": 3
   },
   "file_extension": ".py",
   "mimetype": "text/x-python",
   "name": "python",
   "nbconvert_exporter": "python",
   "pygments_lexer": "ipython3",
   "version": "3.9.13"
  }
 },
 "nbformat": 4,
 "nbformat_minor": 5
}
