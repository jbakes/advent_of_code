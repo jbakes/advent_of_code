{
 "cells": [
  {
   "cell_type": "code",
   "execution_count": 4,
   "id": "4db7c5d5-4437-46c7-91a2-1cdb9816a5b1",
   "metadata": {},
   "outputs": [],
   "source": [
    "import re\n",
    "from aocd import get_data"
   ]
  },
  {
   "cell_type": "code",
   "execution_count": 62,
   "id": "8f7f6a9b-9df2-46a0-b9bd-4268b45cb6dc",
   "metadata": {},
   "outputs": [],
   "source": [
    "data = get_data(day=5, year=2023)\n",
    "data = data.splitlines()"
   ]
  },
  {
   "cell_type": "code",
   "execution_count": 41,
   "id": "558e7b42-b20f-45d5-aef8-85d0095a33fb",
   "metadata": {},
   "outputs": [],
   "source": [
    "data = '''seeds: 79 14 55 13\n",
    "\n",
    "seed-to-soil map:\n",
    "50 98 2\n",
    "52 50 48\n",
    "\n",
    "soil-to-fertilizer map:\n",
    "0 15 37\n",
    "37 52 2\n",
    "39 0 15\n",
    "\n",
    "fertilizer-to-water map:\n",
    "49 53 8\n",
    "0 11 42\n",
    "42 0 7\n",
    "57 7 4\n",
    "\n",
    "water-to-light map:\n",
    "88 18 7\n",
    "18 25 70\n",
    "\n",
    "light-to-temperature map:\n",
    "45 77 23\n",
    "81 45 19\n",
    "68 64 13\n",
    "\n",
    "temperature-to-humidity map:\n",
    "0 69 1\n",
    "1 0 69\n",
    "\n",
    "humidity-to-location map:\n",
    "60 56 37\n",
    "56 93 4'''\n",
    "data = data.splitlines()"
   ]
  },
  {
   "cell_type": "code",
   "execution_count": 42,
   "id": "7542c163-7121-4d83-bfbd-0ddf1e0e7337",
   "metadata": {},
   "outputs": [
    {
     "data": {
      "text/plain": [
       "['seeds: 79 14 55 13',\n",
       " '',\n",
       " 'seed-to-soil map:',\n",
       " '50 98 2',\n",
       " '52 50 48',\n",
       " '',\n",
       " 'soil-to-fertilizer map:',\n",
       " '0 15 37',\n",
       " '37 52 2',\n",
       " '39 0 15',\n",
       " '',\n",
       " 'fertilizer-to-water map:',\n",
       " '49 53 8',\n",
       " '0 11 42',\n",
       " '42 0 7',\n",
       " '57 7 4',\n",
       " '',\n",
       " 'water-to-light map:',\n",
       " '88 18 7',\n",
       " '18 25 70',\n",
       " '',\n",
       " 'light-to-temperature map:',\n",
       " '45 77 23',\n",
       " '81 45 19',\n",
       " '68 64 13',\n",
       " '',\n",
       " 'temperature-to-humidity map:',\n",
       " '0 69 1',\n",
       " '1 0 69',\n",
       " '',\n",
       " 'humidity-to-location map:',\n",
       " '60 56 37',\n",
       " '56 93 4']"
      ]
     },
     "execution_count": 42,
     "metadata": {},
     "output_type": "execute_result"
    }
   ],
   "source": [
    "data"
   ]
  },
  {
   "cell_type": "code",
   "execution_count": 63,
   "id": "cd526ec3-d1fb-4fa4-a8a6-3817ad7926fd",
   "metadata": {},
   "outputs": [
    {
     "data": {
      "text/plain": [
       "10"
      ]
     },
     "execution_count": 63,
     "metadata": {},
     "output_type": "execute_result"
    }
   ],
   "source": [
    "seeds = data[0].split(':')[1].split()\n",
    "seeds = [int(x) for x in seeds]\n",
    "\n",
    "int(len(seeds) / 2)"
   ]
  },
  {
   "cell_type": "code",
   "execution_count": 64,
   "id": "fc1a5d06-71d8-4b29-be34-f9b0bee4f3f3",
   "metadata": {},
   "outputs": [],
   "source": [
    "def is_seed(value):\n",
    "    for i in range(int(len(seeds) / 2)):\n",
    "        if value >= seeds[2*i] and value < seeds[2*i] + seeds[2*i+1]:\n",
    "            print(i, seeds[2*i], seeds[2*i+1])\n",
    "            return True\n",
    "    return False"
   ]
  },
  {
   "cell_type": "code",
   "execution_count": 65,
   "id": "55a9d886-9ad1-4f18-b96e-cfc824721b98",
   "metadata": {},
   "outputs": [],
   "source": [
    "# value 53, dest: 30 source: 50, length: 10\n",
    "# new value = value - source + dest\n",
    "def x_to_y_map(value, dest, source, length):\n",
    "    if value >= source and value < source + length:\n",
    "        return value - source + dest, True\n",
    "    return value, False\n",
    "\n",
    "def y_to_x_map(value, dest, source, length):\n",
    "    if value >= dest and value < dest + length:\n",
    "        return value - dest + source, True\n",
    "    return value, False"
   ]
  },
  {
   "cell_type": "code",
   "execution_count": 44,
   "id": "46388275-bf76-4a5a-bc99-c8d435791ecf",
   "metadata": {},
   "outputs": [],
   "source": [
    "# Part 1\n",
    "min_seed = 1000000000\n",
    "min_ix = 0\n",
    "for i in range(len(seeds)):\n",
    "    seed = seeds[i]\n",
    "    has_changed = False\n",
    "    for row in data:\n",
    "        if len(row.split()) != 3:\n",
    "            has_changed = False\n",
    "        elif has_changed:\n",
    "            pass\n",
    "        else:\n",
    "            dest, source ,length = [int(x) for x in row.split()]\n",
    "            seed, has_changed = x_to_y_map(seed, dest, source, length)\n",
    "    if seed < min_seed:\n",
    "        min_ix = i\n",
    "        min_seed = seed"
   ]
  },
  {
   "cell_type": "code",
   "execution_count": 66,
   "id": "16f73395-d04d-485c-a081-ba0effa2d04a",
   "metadata": {},
   "outputs": [],
   "source": [
    "# # part 2\n",
    "p2_data = data.copy()\n",
    "p2_data.reverse()"
   ]
  },
  {
   "cell_type": "code",
   "execution_count": null,
   "id": "c407bb02-e3b2-485b-88e4-6aa52f910061",
   "metadata": {},
   "outputs": [
    {
     "name": "stdout",
     "output_type": "stream",
     "text": [
      "0\n",
      "100000\n",
      "200000\n",
      "300000\n",
      "400000\n",
      "500000\n",
      "600000\n",
      "700000\n",
      "800000\n",
      "900000\n",
      "1000000\n",
      "1100000\n",
      "1200000\n",
      "1300000\n",
      "1400000\n",
      "1500000\n",
      "1600000\n",
      "1700000\n",
      "1800000\n",
      "1900000\n",
      "2000000\n",
      "2100000\n",
      "2200000\n",
      "2300000\n",
      "2400000\n",
      "2500000\n",
      "2600000\n",
      "2700000\n",
      "2800000\n",
      "2900000\n",
      "3000000\n",
      "3100000\n",
      "3200000\n",
      "3300000\n",
      "3400000\n",
      "3500000\n",
      "3600000\n",
      "3700000\n",
      "3800000\n",
      "3900000\n",
      "4000000\n",
      "4100000\n",
      "4200000\n",
      "4300000\n",
      "4400000\n",
      "4500000\n",
      "4600000\n",
      "4700000\n",
      "4800000\n",
      "4900000\n",
      "5000000\n",
      "5100000\n",
      "5200000\n",
      "5300000\n",
      "5400000\n",
      "5500000\n",
      "5600000\n",
      "5700000\n",
      "5800000\n",
      "5900000\n",
      "6000000\n",
      "6100000\n",
      "6200000\n",
      "6300000\n",
      "6400000\n",
      "6500000\n",
      "6600000\n",
      "6700000\n",
      "6800000\n",
      "6900000\n",
      "7000000\n",
      "7100000\n",
      "7200000\n",
      "7300000\n",
      "7400000\n",
      "7500000\n",
      "7600000\n",
      "7700000\n",
      "7800000\n",
      "7900000\n",
      "8000000\n",
      "8100000\n",
      "8200000\n",
      "8300000\n",
      "8400000\n",
      "8500000\n",
      "8600000\n",
      "8700000\n",
      "8800000\n",
      "8900000\n",
      "9000000\n",
      "9100000\n",
      "9200000\n",
      "9300000\n"
     ]
    }
   ],
   "source": [
    "done = False\n",
    "location = 0\n",
    "while not done:\n",
    "    value = location\n",
    "    has_changed = False\n",
    "    for row in p2_data:\n",
    "        if len(row.split()) != 3:\n",
    "            has_changed = False\n",
    "        elif has_changed:\n",
    "            pass\n",
    "        else:\n",
    "            dest, source, length = [int(x) for x in row.split()]\n",
    "            value, has_changed = y_to_x_map(value, dest, source, length)\n",
    "    if is_seed(value):\n",
    "        done = True\n",
    "        print(location, value)\n",
    "    if location % 100000 == 0:\n",
    "        print(location)\n",
    "    location += 1"
   ]
  },
  {
   "cell_type": "code",
   "execution_count": 25,
   "id": "183a4932-f66f-4d77-9399-ee7cb384b4af",
   "metadata": {},
   "outputs": [
    {
     "data": {
      "text/plain": [
       "0"
      ]
     },
     "execution_count": 25,
     "metadata": {},
     "output_type": "execute_result"
    }
   ],
   "source": [
    "# seed = 2656398825\n",
    "# has_changed = False\n",
    "# for row in data:\n",
    "#     if len(row.split()) != 3:\n",
    "#         has_changed = False\n",
    "#     elif has_changed:\n",
    "#         pass\n",
    "#     else:\n",
    "#         dest, source ,length = [int(x) for x in row.split()]\n",
    "#         seed, has_changed = x_to_y_map(seed, dest, source, length)\n",
    "# seed"
   ]
  },
  {
   "cell_type": "code",
   "execution_count": null,
   "id": "b94043da-e577-4eb9-8583-b3e8e33620b6",
   "metadata": {},
   "outputs": [],
   "source": []
  }
 ],
 "metadata": {
  "kernelspec": {
   "display_name": "Python 3 (ipykernel)",
   "language": "python",
   "name": "python3"
  },
  "language_info": {
   "codemirror_mode": {
    "name": "ipython",
    "version": 3
   },
   "file_extension": ".py",
   "mimetype": "text/x-python",
   "name": "python",
   "nbconvert_exporter": "python",
   "pygments_lexer": "ipython3",
   "version": "3.9.13"
  }
 },
 "nbformat": 4,
 "nbformat_minor": 5
}
