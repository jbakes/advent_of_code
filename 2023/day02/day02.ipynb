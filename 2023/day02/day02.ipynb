{
 "cells": [
  {
   "cell_type": "code",
   "execution_count": 14,
   "id": "71b87c92-b5dd-41bd-974f-9949385f81fe",
   "metadata": {},
   "outputs": [],
   "source": [
    "import re\n",
    "from aocd import get_data"
   ]
  },
  {
   "cell_type": "code",
   "execution_count": 3,
   "id": "db8e5260-de00-4a3f-96e4-99011aec9d24",
   "metadata": {},
   "outputs": [],
   "source": [
    "data = get_data(day=2, year=2023)\n",
    "data = data.splitlines()"
   ]
  },
  {
   "cell_type": "code",
   "execution_count": 6,
   "id": "32a06498-ebcb-4c00-9f33-7c370bdee54c",
   "metadata": {},
   "outputs": [
    {
     "data": {
      "text/plain": [
       "'Game 1: 4 blue, 16 green, 2 red; 5 red, 11 blue, 16 green; 9 green, 11 blue; 10 blue, 6 green, 4 red'"
      ]
     },
     "execution_count": 6,
     "metadata": {},
     "output_type": "execute_result"
    }
   ],
   "source": [
    "line = data[0]\n",
    "line"
   ]
  },
  {
   "cell_type": "code",
   "execution_count": 15,
   "id": "7488d5ac-cab3-4442-9632-a7c75806c7d7",
   "metadata": {},
   "outputs": [],
   "source": [
    "red_p = re.compile('(\\d+) red')\n",
    "blue_p = re.compile('(\\d+) blue')\n",
    "green_p = re.compile('(\\d+) green')"
   ]
  },
  {
   "cell_type": "code",
   "execution_count": 42,
   "id": "2647e7e2-aa45-4d5b-a898-742bf249600e",
   "metadata": {},
   "outputs": [],
   "source": [
    "def check_draw(draw):\n",
    "    max_red = 12\n",
    "    max_blue = 14\n",
    "    max_green = 13\n",
    "\n",
    "    if red_p.search(draw):\n",
    "        reds = int(red_p.search(draw)[1])\n",
    "    else:\n",
    "        reds = 0\n",
    "    if blue_p.search(draw):\n",
    "        blues = int(blue_p.search(draw)[1])\n",
    "    else:\n",
    "        blues = 0\n",
    "    if green_p.search(draw):\n",
    "        greens = int(green_p.search(draw)[1])\n",
    "    else:\n",
    "        greens = 0 \n",
    "    if reds > max_red or greens > max_green or blues > max_blue:\n",
    "        return False\n",
    "    return True"
   ]
  },
  {
   "cell_type": "code",
   "execution_count": 46,
   "id": "63bd7929-72dd-49c9-b49e-fc7c001f4656",
   "metadata": {},
   "outputs": [],
   "source": [
    "def update_maxes(draw, maxes):\n",
    "    if red_p.search(draw):\n",
    "        maxes['red'] = max(maxes['red'], int(red_p.search(draw)[1]))\n",
    "\n",
    "    if blue_p.search(draw):\n",
    "        maxes['blue'] = max(maxes['blue'], int(blue_p.search(draw)[1]))\n",
    "\n",
    "    if green_p.search(draw):\n",
    "        maxes['green'] = max(maxes['green'], int(green_p.search(draw)[1]))\n",
    "\n",
    "    return maxes"
   ]
  },
  {
   "cell_type": "code",
   "execution_count": 40,
   "id": "944abdbc",
   "metadata": {},
   "outputs": [],
   "source": [
    "valid_sum = 0\n",
    "\n",
    "for line in data:\n",
    "    game_label = line.split(':')[0]\n",
    "    game_num = int(game_label.split(' ')[1])\n",
    "    games = line.split(':')[1]\n",
    "\n",
    "    valid_game = True\n",
    "    for draw in games.split(';'):\n",
    "        if not check_draw(draw):\n",
    "            valid_game = False\n",
    "    if valid_game:\n",
    "        valid_sum += game_num"
   ]
  },
  {
   "cell_type": "code",
   "execution_count": 49,
   "id": "4abba4ca-18f7-4966-8695-cc7a0804c9fe",
   "metadata": {},
   "outputs": [],
   "source": [
    "power_sum = 0\n",
    "\n",
    "for line in data:\n",
    "    maxes = {\n",
    "        'red': 0,\n",
    "        'green': 0,\n",
    "        'blue': 0\n",
    "    }\n",
    "    game_label = line.split(':')[0]\n",
    "    games = line.split(':')[1]\n",
    "\n",
    "    for draw in games.split(';'):\n",
    "        maxes = update_maxes(draw, maxes)\n",
    "    power_sum += maxes['red'] * maxes['blue'] * maxes['green']"
   ]
  },
  {
   "cell_type": "code",
   "execution_count": 50,
   "id": "b2796fe1-e849-417a-bdcd-83de7962d8c2",
   "metadata": {},
   "outputs": [
    {
     "data": {
      "text/plain": [
       "83707"
      ]
     },
     "execution_count": 50,
     "metadata": {},
     "output_type": "execute_result"
    }
   ],
   "source": [
    "power_sum"
   ]
  },
  {
   "cell_type": "code",
   "execution_count": null,
   "id": "163bd101-4d1b-45b3-bb64-b2a1e3bcb2d4",
   "metadata": {},
   "outputs": [],
   "source": []
  }
 ],
 "metadata": {
  "kernelspec": {
   "display_name": "Python 3 (ipykernel)",
   "language": "python",
   "name": "python3"
  },
  "language_info": {
   "codemirror_mode": {
    "name": "ipython",
    "version": 3
   },
   "file_extension": ".py",
   "mimetype": "text/x-python",
   "name": "python",
   "nbconvert_exporter": "python",
   "pygments_lexer": "ipython3",
   "version": "3.9.13"
  }
 },
 "nbformat": 4,
 "nbformat_minor": 5
}
