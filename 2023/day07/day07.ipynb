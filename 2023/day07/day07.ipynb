{
 "cells": [
  {
   "cell_type": "code",
   "execution_count": 57,
   "id": "8fb5f734-42e0-41d6-b510-d46fa6a3886a",
   "metadata": {},
   "outputs": [],
   "source": [
    "import re\n",
    "from aocd import get_data\n",
    "\n",
    "data = get_data(day=7, year=2023)\n",
    "#data = data.splitlines()"
   ]
  },
  {
   "cell_type": "code",
   "execution_count": 58,
   "id": "7d317432-76ad-453b-a6ce-3883686a5c2f",
   "metadata": {},
   "outputs": [],
   "source": [
    "# Part 1\n",
    "# data = data.replace('A','E')\n",
    "# data = data.replace('T','A')\n",
    "# data = data.replace('J','B')\n",
    "# data = data.replace('Q','C')\n",
    "# data = data.replace('K','D')\n",
    "\n",
    "#Part 2\n",
    "data = data.replace('A','E')\n",
    "data = data.replace('T','A')\n",
    "data = data.replace('J','1')\n",
    "data = data.replace('Q','C')\n",
    "data = data.replace('K','D')"
   ]
  },
  {
   "cell_type": "code",
   "execution_count": 59,
   "id": "592ebebe-31e8-4156-8412-af7831d8ecc7",
   "metadata": {},
   "outputs": [],
   "source": [
    "data = data.splitlines()\n",
    "data.sort(reverse=True)"
   ]
  },
  {
   "cell_type": "code",
   "execution_count": 28,
   "id": "3f1844d7-ff30-41ab-955f-2b5473c862d3",
   "metadata": {},
   "outputs": [],
   "source": [
    "def get_score(hand):\n",
    "    # 6: five of a kind\n",
    "    # 5: four of a kind\n",
    "    # 4: full house\n",
    "    # 3: 3 of a kind\n",
    "    # 2: two pair\n",
    "    # 1: one pair\n",
    "    # 0: high card\n",
    "    d = {}\n",
    "    for c in hand:\n",
    "        if c in d:\n",
    "            d[c] += 1\n",
    "        else:\n",
    "            d[c] = 1\n",
    "    l = list(d.values())\n",
    "    l.sort(reverse=True)\n",
    "    if l[0] == 5:\n",
    "        return 6\n",
    "    elif l[0] == 4:\n",
    "        return 5\n",
    "    elif l[0] == 3 and l[1] == 2:\n",
    "        return 4\n",
    "    elif l[0] == 3:\n",
    "        return 3\n",
    "    elif l[0] == 2 and l[1] == 2:\n",
    "        return 2\n",
    "    elif l[0] == 2:\n",
    "        return 1\n",
    "    else:\n",
    "        return 0    "
   ]
  },
  {
   "cell_type": "code",
   "execution_count": 41,
   "id": "6d2c3397-64c5-4927-a3a5-a1b1a090cb7a",
   "metadata": {},
   "outputs": [],
   "source": [
    "scored_hands = []\n",
    "for x in data:\n",
    "    scored_hands.append((x, get_score(x[:5])))"
   ]
  },
  {
   "cell_type": "code",
   "execution_count": 42,
   "id": "557b2d3a-b739-42e8-8671-8093ef4b6d34",
   "metadata": {},
   "outputs": [
    {
     "data": {
      "text/plain": [
       "[('EEEEC 488', 5),\n",
       " ('EEEEB 580', 5),\n",
       " ('EEEE3 179', 5),\n",
       " ('EEEB8 331', 3),\n",
       " ('EECEC 31', 4),\n",
       " ('EEB6E 753', 3),\n",
       " ('EE8E3 565', 3),\n",
       " ('EE666 950', 4),\n",
       " ('EE574 436', 1),\n",
       " ('EE559 780', 2)]"
      ]
     },
     "execution_count": 42,
     "metadata": {},
     "output_type": "execute_result"
    }
   ],
   "source": [
    "scored_hands[:10]"
   ]
  },
  {
   "cell_type": "code",
   "execution_count": 44,
   "id": "c8f2a4ea-50b8-46ed-9956-5bf649149647",
   "metadata": {},
   "outputs": [],
   "source": [
    "sorted_hands = sorted(scored_hands, key=lambda x: x[1], reverse=True)"
   ]
  },
  {
   "cell_type": "code",
   "execution_count": 46,
   "id": "9dca0af2-db12-4d33-8245-eeee2d6029d9",
   "metadata": {},
   "outputs": [],
   "source": [
    "sorted_hands.reverse()"
   ]
  },
  {
   "cell_type": "code",
   "execution_count": 48,
   "id": "eafa97f4-d09b-4066-aeec-7e0996780b2b",
   "metadata": {},
   "outputs": [],
   "source": [
    "s = 0\n",
    "for i in range(len(sorted_hands)):\n",
    "    s += (i+1)*int(sorted_hands[i][0][6:])"
   ]
  },
  {
   "cell_type": "code",
   "execution_count": 50,
   "id": "e9f64dba-bd50-493d-8e07-4b58a2415115",
   "metadata": {},
   "outputs": [
    {
     "data": {
      "text/plain": [
       "252656917"
      ]
     },
     "execution_count": 50,
     "metadata": {},
     "output_type": "execute_result"
    }
   ],
   "source": [
    "# part 1\n",
    "s"
   ]
  },
  {
   "cell_type": "code",
   "execution_count": 70,
   "id": "a325d586-5f12-4076-aede-758ad597b039",
   "metadata": {},
   "outputs": [],
   "source": [
    "def get_score_2(hand):\n",
    "    # 6: five of a kind\n",
    "    # 5: four of a kind\n",
    "    # 4: full house\n",
    "    # 3: 3 of a kind\n",
    "    # 2: two pair\n",
    "    # 1: one pair\n",
    "    # 0: high card\n",
    "    d = {}\n",
    "    jokers = 0\n",
    "    for c in hand:\n",
    "        if c == '1':\n",
    "            jokers += 1\n",
    "        elif c in d:\n",
    "            d[c] += 1\n",
    "        else:\n",
    "            d[c] = 1\n",
    "    l = list(d.values())\n",
    "    l.sort(reverse=True)\n",
    "    if len(l) == 0:\n",
    "        l.append(5)\n",
    "    else:\n",
    "        l[0] += jokers\n",
    "    if l[0] == 5:\n",
    "        return 6\n",
    "    elif l[0] == 4:\n",
    "        return 5\n",
    "    elif l[0] == 3 and l[1] == 2:\n",
    "        return 4\n",
    "    elif l[0] == 3:\n",
    "        return 3\n",
    "    elif l[0] == 2 and l[1] == 2:\n",
    "        return 2\n",
    "    elif l[0] == 2:\n",
    "        return 1\n",
    "    else:\n",
    "        return 0"
   ]
  },
  {
   "cell_type": "code",
   "execution_count": 68,
   "id": "afbad9c9-2966-4808-b77b-1f7028ef37cf",
   "metadata": {},
   "outputs": [
    {
     "data": {
      "text/plain": [
       "5"
      ]
     },
     "execution_count": 68,
     "metadata": {},
     "output_type": "execute_result"
    }
   ],
   "source": [
    "# 32T3K 765 32A3D: 0\n",
    "# T55J5 684 A5515: 5\n",
    "# KK677 28  DD677: 2\n",
    "# KTJJT 220 DA11A: 5\n",
    "# QQQJA 483 CCC1E\n",
    "get_score_2('DA11A')"
   ]
  },
  {
   "cell_type": "code",
   "execution_count": 71,
   "id": "5b854aa0-fffc-42ef-b86a-a3e27b80e037",
   "metadata": {},
   "outputs": [],
   "source": [
    "scored_hands = []\n",
    "for x in data:\n",
    "    scored_hands.append((x, get_score_2(x[:5])))"
   ]
  },
  {
   "cell_type": "code",
   "execution_count": 72,
   "id": "28796a6d-e839-44dd-920c-c4814081e19c",
   "metadata": {},
   "outputs": [],
   "source": [
    "sorted_hands = sorted(scored_hands, key=lambda x: x[1], reverse=True)"
   ]
  },
  {
   "cell_type": "code",
   "execution_count": 73,
   "id": "6b674648-aa83-4301-8ef7-8328cd42c0c6",
   "metadata": {},
   "outputs": [],
   "source": [
    "sorted_hands.reverse()"
   ]
  },
  {
   "cell_type": "code",
   "execution_count": 74,
   "id": "561fc6f2-5c72-4a28-a585-c937c647fbc1",
   "metadata": {},
   "outputs": [],
   "source": [
    "s = 0\n",
    "for i in range(len(sorted_hands)):\n",
    "    s += (i+1)*int(sorted_hands[i][0][6:])"
   ]
  },
  {
   "cell_type": "code",
   "execution_count": 75,
   "id": "eacdee0f-572a-4752-909c-2a2e2f04b9e4",
   "metadata": {},
   "outputs": [
    {
     "data": {
      "text/plain": [
       "253499763"
      ]
     },
     "execution_count": 75,
     "metadata": {},
     "output_type": "execute_result"
    }
   ],
   "source": [
    "s"
   ]
  },
  {
   "cell_type": "code",
   "execution_count": null,
   "id": "d949cf6d-9061-4258-bd8c-e2d7fca4c768",
   "metadata": {},
   "outputs": [],
   "source": []
  }
 ],
 "metadata": {
  "kernelspec": {
   "display_name": "Python 3 (ipykernel)",
   "language": "python",
   "name": "python3"
  },
  "language_info": {
   "codemirror_mode": {
    "name": "ipython",
    "version": 3
   },
   "file_extension": ".py",
   "mimetype": "text/x-python",
   "name": "python",
   "nbconvert_exporter": "python",
   "pygments_lexer": "ipython3",
   "version": "3.9.13"
  }
 },
 "nbformat": 4,
 "nbformat_minor": 5
}
