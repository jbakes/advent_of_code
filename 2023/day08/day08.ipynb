{
 "cells": [
  {
   "cell_type": "code",
   "execution_count": 39,
   "id": "75eab31c-6b95-42b1-bf55-669ee5ff18fb",
   "metadata": {},
   "outputs": [],
   "source": [
    "import re\n",
    "import math\n",
    "from aocd import get_data\n",
    "\n",
    "data = get_data(day=8, year=2023)\n",
    "data = data.splitlines()"
   ]
  },
  {
   "cell_type": "code",
   "execution_count": 2,
   "id": "9bd44940-1e69-4e09-bf88-8d6112674964",
   "metadata": {},
   "outputs": [
    {
     "data": {
      "text/plain": [
       "['LRLRRLLRRLRLRRLLRRLRRLLRRLRRRLRRLRRLRRRLRRLRLRLRLLLRRRLRLLRRLRLRRRLRRLLRRLRRRLRRLRLRLRRRLRLRRRLLRLLRRLRRRLLRRLRLLLRRLRLRLLRRLRLRRRLLRLLRRRLRLLRRRLRRLRRLRRRLRRRLLRLLRRRLRRRLRRLRRRLLRRRLRLRRLLRRLRLRLRRLRRLRLLRRRLRRRLLLRLRLRRRLLRRLRRRLRLRRLLRRLRRLLRLRLRRRLRLRLRLRRRLRLLRRRLRRRLRRLLLRRRR',\n",
       " '',\n",
       " 'LCP = (FQJ, JGH)',\n",
       " 'FFQ = (PJQ, GPP)',\n",
       " 'NQP = (LFH, SCS)']"
      ]
     },
     "execution_count": 2,
     "metadata": {},
     "output_type": "execute_result"
    }
   ],
   "source": [
    "data[:5]"
   ]
  },
  {
   "cell_type": "code",
   "execution_count": 15,
   "id": "d70379b6-8aa3-491e-a250-2cc707cab6d4",
   "metadata": {},
   "outputs": [],
   "source": [
    "p = re.compile('(\\w{3}).*(\\w{3}).*(\\w{3})')"
   ]
  },
  {
   "cell_type": "code",
   "execution_count": 24,
   "id": "ed23b34f-ca10-4de2-a247-eeacd8150453",
   "metadata": {},
   "outputs": [],
   "source": [
    "nodes = {}\n",
    "for row in data[2:]:\n",
    "    match = p.match(row)\n",
    "    node, left, right = match[1], match[2], match[3]\n",
    "    nodes[node] = (left, right)"
   ]
  },
  {
   "cell_type": "code",
   "execution_count": 18,
   "id": "dd98e6c3-bf11-491c-8324-bf83f5bca24b",
   "metadata": {},
   "outputs": [],
   "source": [
    "path = data[0]"
   ]
  },
  {
   "cell_type": "code",
   "execution_count": 34,
   "id": "a7601d5f-4902-41b4-995f-eb25f9d51972",
   "metadata": {},
   "outputs": [],
   "source": [
    "def get_path_len(node, size):\n",
    "    curr_node = node\n",
    "    path_len = 0\n",
    "    solns = []\n",
    "    \n",
    "    while True:\n",
    "        for choice in path:\n",
    "            if choice == 'L':\n",
    "                curr_node = nodes[curr_node][0]\n",
    "            else:\n",
    "                curr_node = nodes[curr_node][1]\n",
    "            path_len += 1\n",
    "            if curr_node[-1] == 'Z':\n",
    "                solns.append(path_len)\n",
    "                if len(solns) == size:\n",
    "                    return solns"
   ]
  },
  {
   "cell_type": "code",
   "execution_count": 35,
   "id": "38285538-24e0-46ae-b33b-918f260012e1",
   "metadata": {},
   "outputs": [],
   "source": [
    "node_solns = {}\n",
    "for node in nodes.keys():\n",
    "    if node[-1] == 'A':\n",
    "        node_solns[node] = get_path_len(node, 1000)"
   ]
  },
  {
   "cell_type": "code",
   "execution_count": 36,
   "id": "f6d0ba80-6ef3-4c25-be9a-a3bc5d58ab7c",
   "metadata": {},
   "outputs": [],
   "source": [
    "# lengths = {}\n",
    "# for key in node_solns:\n",
    "#     for l in node_solns[key]:\n",
    "#         if l in lengths:\n",
    "#             lengths[l] += 1\n",
    "#         else:\n",
    "#             lengths[l] = 1\n",
    "#         if lengths[l] == 6:\n",
    "#             print(lengths[l])\n",
    "#             break"
   ]
  },
  {
   "cell_type": "code",
   "execution_count": 40,
   "id": "97f8ed54-746d-4c40-8da8-fa0793076bae",
   "metadata": {},
   "outputs": [],
   "source": [
    "firsts = []\n",
    "for key in node_solns:\n",
    "    firsts.append(node_solns[key][0])"
   ]
  },
  {
   "cell_type": "code",
   "execution_count": 41,
   "id": "e05a1c97-60fe-459b-a8d2-91e792727d6d",
   "metadata": {},
   "outputs": [
    {
     "data": {
      "text/plain": [
       "[20093, 12169, 22357, 14999, 13301, 17263]"
      ]
     },
     "execution_count": 41,
     "metadata": {},
     "output_type": "execute_result"
    }
   ],
   "source": [
    "firsts"
   ]
  },
  {
   "cell_type": "code",
   "execution_count": 43,
   "id": "55aa3776-216f-4e0f-8ec6-9dffbd9b7d37",
   "metadata": {},
   "outputs": [
    {
     "data": {
      "text/plain": [
       "10371555451871"
      ]
     },
     "execution_count": 43,
     "metadata": {},
     "output_type": "execute_result"
    }
   ],
   "source": [
    "math.lcm(*firsts)"
   ]
  },
  {
   "cell_type": "code",
   "execution_count": null,
   "id": "561523ce-9bc4-4f6b-a30c-6af0f2bd923c",
   "metadata": {},
   "outputs": [],
   "source": []
  }
 ],
 "metadata": {
  "kernelspec": {
   "display_name": "Python 3 (ipykernel)",
   "language": "python",
   "name": "python3"
  },
  "language_info": {
   "codemirror_mode": {
    "name": "ipython",
    "version": 3
   },
   "file_extension": ".py",
   "mimetype": "text/x-python",
   "name": "python",
   "nbconvert_exporter": "python",
   "pygments_lexer": "ipython3",
   "version": "3.9.13"
  }
 },
 "nbformat": 4,
 "nbformat_minor": 5
}
