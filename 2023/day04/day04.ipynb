{
 "cells": [
  {
   "cell_type": "code",
   "execution_count": 1,
   "id": "3acd8d39-168b-44c3-a118-2d81291534da",
   "metadata": {},
   "outputs": [],
   "source": [
    "import re\n",
    "from aocd import get_data"
   ]
  },
  {
   "cell_type": "code",
   "execution_count": 103,
   "id": "dc4621b8-fae6-440f-b0f0-504f957452d7",
   "metadata": {},
   "outputs": [],
   "source": [
    "data = get_data(day=4, year=2023)\n",
    "data = data.splitlines()"
   ]
  },
  {
   "cell_type": "code",
   "execution_count": 84,
   "id": "dab914d4-c22c-4379-b4b4-ea507aea6c15",
   "metadata": {},
   "outputs": [],
   "source": [
    "data = '''Card 1: 41 48 83 86 17 | 83 86  6 31 17  9 48 53\n",
    "Card 2: 13 32 20 16 61 | 61 30 68 82 17 32 24 19\n",
    "Card 3:  1 21 53 59 44 | 69 82 63 72 16 21 14  1\n",
    "Card 4: 41 92 73 84 69 | 59 84 76 51 58  5 54 83\n",
    "Card 5: 87 83 26 28 32 | 88 30 70 12 93 22 82 36\n",
    "Card 6: 31 18 13 56 72 | 74 77 10 23 35 67 36 11'''\n",
    "data = data.splitlines()"
   ]
  },
  {
   "cell_type": "code",
   "execution_count": 104,
   "id": "a0941e07-b38a-42dd-90c9-910863d0d051",
   "metadata": {},
   "outputs": [
    {
     "data": {
      "text/plain": [
       "'Card   1: 74  8  2 86 40 25 93 17 61 32 | 65 25 73 55 75 94 54 99 53 17 89  4 44 13 15 32 57 92  8 21 74 64  5 87 24'"
      ]
     },
     "execution_count": 104,
     "metadata": {},
     "output_type": "execute_result"
    }
   ],
   "source": [
    "row = data[0]\n",
    "row"
   ]
  },
  {
   "cell_type": "code",
   "execution_count": 105,
   "id": "45da8ba3-af18-4d23-a592-36425ca4e417",
   "metadata": {},
   "outputs": [],
   "source": [
    "c_p = re.compile('(\\d+):')\n",
    "win_p = re.compile(':(.*)\\|')\n",
    "guesses_p = re.compile('\\|(.*)')"
   ]
  },
  {
   "cell_type": "code",
   "execution_count": 42,
   "id": "4a3c5ffb-b888-4a64-b18a-9db746585c56",
   "metadata": {},
   "outputs": [],
   "source": [
    "# part one\n",
    "s = 0\n",
    "for row in data:\n",
    "    card_num = int(c_p.search(row)[1])\n",
    "    winning_nums = [x for x in win_p.search(row)[1].split(' ') if x != '']\n",
    "    winning_nums = set(winning_nums)\n",
    "    guessed_nums = [x for x in guesses_p.search(row)[1].split(' ') if x != '']\n",
    "    guessed_nums = set(guessed_nums)\n",
    "    num_matches = len(winning_nums.intersection(guessed_nums))\n",
    "    if num_matches > 0:\n",
    "        s += 2**(num_matches - 1)"
   ]
  },
  {
   "cell_type": "code",
   "execution_count": 106,
   "id": "17a5d437-6aff-4773-8253-b9a04c4a67f9",
   "metadata": {},
   "outputs": [],
   "source": [
    "# part 2\n",
    "num_matches = []\n",
    "num_cards = []\n",
    "for row in data:\n",
    "    card_num = int(c_p.search(row)[1])\n",
    "    winning_nums = [x for x in win_p.search(row)[1].split(' ') if x != '']\n",
    "    winning_nums = set(winning_nums)\n",
    "    guessed_nums = [x for x in guesses_p.search(row)[1].split(' ') if x != '']\n",
    "    guessed_nums = set(guessed_nums)\n",
    "    num_matches.append(len(winning_nums.intersection(guessed_nums)))\n",
    "    num_cards.append(1)\n",
    "    \n",
    "for i in range(100):\n",
    "    num_cards.append(0)"
   ]
  },
  {
   "cell_type": "code",
   "execution_count": 107,
   "id": "d5652b2e-164e-4eac-88ec-107871f0548d",
   "metadata": {},
   "outputs": [
    {
     "data": {
      "text/plain": [
       "[5, 10, 4, 4, 3, 9, 10, 0, 2, 6]"
      ]
     },
     "execution_count": 107,
     "metadata": {},
     "output_type": "execute_result"
    }
   ],
   "source": [
    "num_matches[:10]"
   ]
  },
  {
   "cell_type": "code",
   "execution_count": 108,
   "id": "a4b421d9-a300-4f8f-aa88-ae87672ffe9c",
   "metadata": {},
   "outputs": [
    {
     "data": {
      "text/plain": [
       "[1, 1, 1, 1, 1, 1, 1, 1, 1, 1]"
      ]
     },
     "execution_count": 108,
     "metadata": {},
     "output_type": "execute_result"
    }
   ],
   "source": [
    "num_cards[:10]"
   ]
  },
  {
   "cell_type": "code",
   "execution_count": 109,
   "id": "ad73494d-40cf-404b-ad13-a7c2999f6ee6",
   "metadata": {},
   "outputs": [],
   "source": [
    "for i in range(len(num_matches)):\n",
    "#for i in range(3):\n",
    "    if num_matches[i] > 0:\n",
    "        for j in range(num_matches[i]):\n",
    "            if i+j+1 < len(num_matches):\n",
    "                num_cards[i+j+1] += num_cards[i]\n",
    "#    print(num_cards[:20])"
   ]
  },
  {
   "cell_type": "code",
   "execution_count": 110,
   "id": "fcd8b154-8996-43f4-a4c8-eeca6fd6843d",
   "metadata": {},
   "outputs": [
    {
     "data": {
      "text/plain": [
       "[5, 10, 4, 4, 3, 9, 10, 0, 2, 6]"
      ]
     },
     "execution_count": 110,
     "metadata": {},
     "output_type": "execute_result"
    }
   ],
   "source": [
    "num_matches[:10]"
   ]
  },
  {
   "cell_type": "code",
   "execution_count": 111,
   "id": "c8a5ef3f-f259-4838-b48b-e404e747ff2f",
   "metadata": {},
   "outputs": [
    {
     "data": {
      "text/plain": [
       "[1, 2, 4, 8, 16, 32, 63, 122, 98, 196]"
      ]
     },
     "execution_count": 111,
     "metadata": {},
     "output_type": "execute_result"
    }
   ],
   "source": [
    "num_cards[:10]"
   ]
  },
  {
   "cell_type": "code",
   "execution_count": 112,
   "id": "1419b16e-a679-4715-a0af-5598c3689c4c",
   "metadata": {},
   "outputs": [
    {
     "data": {
      "text/plain": [
       "[5566, 9101, 0, 0, 0]"
      ]
     },
     "execution_count": 112,
     "metadata": {},
     "output_type": "execute_result"
    }
   ],
   "source": [
    "num_cards[200:205]"
   ]
  },
  {
   "cell_type": "code",
   "execution_count": 113,
   "id": "6fc38ea2-ad76-46af-a804-939d015fffbd",
   "metadata": {},
   "outputs": [
    {
     "data": {
      "text/plain": [
       "8063216"
      ]
     },
     "execution_count": 113,
     "metadata": {},
     "output_type": "execute_result"
    }
   ],
   "source": [
    "sum(num_cards)"
   ]
  },
  {
   "cell_type": "code",
   "execution_count": null,
   "id": "ce5ab369-ecd4-4066-804c-05bfc6e9e44c",
   "metadata": {},
   "outputs": [],
   "source": []
  }
 ],
 "metadata": {
  "kernelspec": {
   "display_name": "Python 3 (ipykernel)",
   "language": "python",
   "name": "python3"
  },
  "language_info": {
   "codemirror_mode": {
    "name": "ipython",
    "version": 3
   },
   "file_extension": ".py",
   "mimetype": "text/x-python",
   "name": "python",
   "nbconvert_exporter": "python",
   "pygments_lexer": "ipython3",
   "version": "3.9.13"
  }
 },
 "nbformat": 4,
 "nbformat_minor": 5
}
