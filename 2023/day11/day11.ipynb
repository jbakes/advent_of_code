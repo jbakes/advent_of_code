{
 "cells": [
  {
   "cell_type": "code",
   "execution_count": 125,
   "id": "e03208f5-da36-4967-a921-01ee7fa017c6",
   "metadata": {},
   "outputs": [],
   "source": [
    "import re\n",
    "from aocd import get_data\n",
    "\n",
    "data = get_data(day=11, year=2023)\n",
    "data = data.splitlines()"
   ]
  },
  {
   "cell_type": "code",
   "execution_count": 102,
   "id": "764d53d2-df2a-4689-b577-2e983a1d12a6",
   "metadata": {},
   "outputs": [],
   "source": [
    "data = '''...#......\n",
    ".......#..\n",
    "#.........\n",
    "..........\n",
    "......#...\n",
    ".#........\n",
    ".........#\n",
    "..........\n",
    ".......#..\n",
    "#...#.....'''.splitlines()"
   ]
  },
  {
   "cell_type": "code",
   "execution_count": 37,
   "id": "2db488e3-d8e4-475d-a913-1c3c01a12ba5",
   "metadata": {},
   "outputs": [
    {
     "data": {
      "text/plain": [
       "'....'"
      ]
     },
     "execution_count": 37,
     "metadata": {},
     "output_type": "execute_result"
    }
   ],
   "source": [
    "'.' * 4"
   ]
  },
  {
   "cell_type": "code",
   "execution_count": 103,
   "id": "986cebf4-fb12-44af-a953-8b765eb469c2",
   "metadata": {},
   "outputs": [],
   "source": [
    "def expand(universe):\n",
    "    i = 0\n",
    "    bad_rows = []\n",
    "    while i < len(universe):\n",
    "        row_good = False\n",
    "        for c in universe[i]:\n",
    "            if c != '.':\n",
    "                row_good = True\n",
    "        if not row_good:\n",
    "            #universe.insert(i, '.' * len(universe[0]))\n",
    "            # i += 1\n",
    "            bad_rows.append(i)\n",
    "        i += 1\n",
    "    return bad_rows"
   ]
  },
  {
   "cell_type": "code",
   "execution_count": 70,
   "id": "90b0302f-645d-45e7-ab99-26608e1ab969",
   "metadata": {},
   "outputs": [
    {
     "name": "stdout",
     "output_type": "stream",
     "text": [
      "...#......\n",
      ".......#..\n",
      "#.........\n",
      "..........\n",
      "......#...\n",
      ".#........\n",
      ".........#\n",
      "..........\n",
      ".......#..\n",
      "#...#.....\n"
     ]
    }
   ],
   "source": [
    "for row in data:\n",
    "    print(row)"
   ]
  },
  {
   "cell_type": "code",
   "execution_count": 126,
   "id": "a7d7c2a4-97af-41d3-a79c-e1336a1d287d",
   "metadata": {},
   "outputs": [],
   "source": [
    "br = expand(data)\n",
    "data = list(map(list, zip(*data)))\n",
    "bc = expand(data)\n",
    "data = list(map(list, zip(*data)))"
   ]
  },
  {
   "cell_type": "code",
   "execution_count": 109,
   "id": "2b14aa91-9efb-4b91-a615-e38260c2688c",
   "metadata": {},
   "outputs": [
    {
     "name": "stdout",
     "output_type": "stream",
     "text": [
      "['.', '.', '.', '#', '.', '.', '.', '.', '.', '.']\n",
      "['.', '.', '.', '.', '.', '.', '.', '#', '.', '.']\n",
      "['#', '.', '.', '.', '.', '.', '.', '.', '.', '.']\n",
      "['.', '.', '.', '.', '.', '.', '.', '.', '.', '.']\n",
      "['.', '.', '.', '.', '.', '.', '#', '.', '.', '.']\n",
      "['.', '#', '.', '.', '.', '.', '.', '.', '.', '.']\n",
      "['.', '.', '.', '.', '.', '.', '.', '.', '.', '#']\n",
      "['.', '.', '.', '.', '.', '.', '.', '.', '.', '.']\n",
      "['.', '.', '.', '.', '.', '.', '.', '#', '.', '.']\n",
      "['#', '.', '.', '.', '#', '.', '.', '.', '.', '.']\n"
     ]
    }
   ],
   "source": [
    "for row in data:\n",
    "    print(row)"
   ]
  },
  {
   "cell_type": "code",
   "execution_count": 113,
   "id": "30458eec-56eb-49b8-92b7-bc01f6328599",
   "metadata": {},
   "outputs": [
    {
     "data": {
      "text/plain": [
       "5"
      ]
     },
     "execution_count": 113,
     "metadata": {},
     "output_type": "execute_result"
    }
   ],
   "source": [
    "get_dist( (0,3), (1,7))"
   ]
  },
  {
   "cell_type": "code",
   "execution_count": 127,
   "id": "5eeb8b74-5ab7-4bf8-acc7-e7cea110e0a9",
   "metadata": {},
   "outputs": [],
   "source": [
    "locs = []\n",
    "for i in range(len(data)):\n",
    "    for j in range(len(data[0])):\n",
    "        if data[i][j] == '#':\n",
    "            locs.append((i, j))"
   ]
  },
  {
   "cell_type": "code",
   "execution_count": 128,
   "id": "b4f5011e-7f90-414c-b39c-6149febbcd1a",
   "metadata": {},
   "outputs": [
    {
     "data": {
      "text/plain": [
       "[(0, 38),\n",
       " (0, 76),\n",
       " (0, 83),\n",
       " (0, 91),\n",
       " (0, 113),\n",
       " (0, 131),\n",
       " (2, 45),\n",
       " (2, 138),\n",
       " (3, 26),\n",
       " (3, 61)]"
      ]
     },
     "execution_count": 128,
     "metadata": {},
     "output_type": "execute_result"
    }
   ],
   "source": [
    "locs[:10]"
   ]
  },
  {
   "cell_type": "code",
   "execution_count": 81,
   "id": "4e36a29c-8d34-4a3c-a769-806a5305c43f",
   "metadata": {},
   "outputs": [],
   "source": [
    "s = 0\n",
    "for x in locs:\n",
    "    for y in locs:\n",
    "        s += abs(x[0] - y[0]) + abs(x[1] - y[1])"
   ]
  },
  {
   "cell_type": "code",
   "execution_count": 129,
   "id": "36017aa9-e859-4c9e-aefd-8f51ee6a1fe0",
   "metadata": {},
   "outputs": [
    {
     "data": {
      "text/plain": [
       "[1, 25, 39, 50, 53, 56, 74]"
      ]
     },
     "execution_count": 129,
     "metadata": {},
     "output_type": "execute_result"
    }
   ],
   "source": [
    "br"
   ]
  },
  {
   "cell_type": "code",
   "execution_count": 130,
   "id": "57c2485d-bd94-4ec1-880d-e66b48d3317a",
   "metadata": {},
   "outputs": [
    {
     "data": {
      "text/plain": [
       "[58, 72, 80, 81, 86]"
      ]
     },
     "execution_count": 130,
     "metadata": {},
     "output_type": "execute_result"
    }
   ],
   "source": [
    "bc"
   ]
  },
  {
   "cell_type": "code",
   "execution_count": 131,
   "id": "d061d153-c76a-474b-b310-386444e1e941",
   "metadata": {},
   "outputs": [],
   "source": [
    "def get_dist(x, y):\n",
    "    d = abs(x[0] - y[0]) + abs(x[1] - y[1])\n",
    "    for r in br:\n",
    "        if x[0] < r < y[0] or x[0] > r > y[0]:\n",
    "            d += 999_999\n",
    "    for c in bc:\n",
    "        if x[1] < c < y[1] or x[1] > c > y[1]:\n",
    "            d += 999_999\n",
    "    return d"
   ]
  },
  {
   "cell_type": "code",
   "execution_count": 132,
   "id": "7295d219-ec57-4a37-ba6e-991c7c7dc21c",
   "metadata": {},
   "outputs": [],
   "source": [
    "s = 0\n",
    "for x in locs:\n",
    "    for y in locs:\n",
    "        s += get_dist(x,y)"
   ]
  },
  {
   "cell_type": "code",
   "execution_count": 133,
   "id": "a7977d22-97a7-4a2c-aac8-f3c342cfef23",
   "metadata": {},
   "outputs": [
    {
     "data": {
      "text/plain": [
       "512240933238.0"
      ]
     },
     "execution_count": 133,
     "metadata": {},
     "output_type": "execute_result"
    }
   ],
   "source": [
    "s / 2"
   ]
  },
  {
   "cell_type": "code",
   "execution_count": 121,
   "id": "7f44db7f-22a1-43bc-b118-3660da034bcd",
   "metadata": {},
   "outputs": [
    {
     "data": {
      "text/plain": [
       "True"
      ]
     },
     "execution_count": 121,
     "metadata": {},
     "output_type": "execute_result"
    }
   ],
   "source": [
    "\n",
    "999_999 == 999999"
   ]
  },
  {
   "cell_type": "code",
   "execution_count": null,
   "id": "14e8cb0b-ed10-4b05-b9e6-99186378be16",
   "metadata": {},
   "outputs": [],
   "source": []
  }
 ],
 "metadata": {
  "kernelspec": {
   "display_name": "Python 3 (ipykernel)",
   "language": "python",
   "name": "python3"
  },
  "language_info": {
   "codemirror_mode": {
    "name": "ipython",
    "version": 3
   },
   "file_extension": ".py",
   "mimetype": "text/x-python",
   "name": "python",
   "nbconvert_exporter": "python",
   "pygments_lexer": "ipython3",
   "version": "3.9.13"
  }
 },
 "nbformat": 4,
 "nbformat_minor": 5
}
