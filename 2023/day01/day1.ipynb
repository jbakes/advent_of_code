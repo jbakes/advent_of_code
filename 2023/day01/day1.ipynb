{
 "cells": [
  {
   "cell_type": "code",
   "execution_count": 75,
   "id": "cc2179f1-8793-407a-acff-06c0799979c7",
   "metadata": {},
   "outputs": [],
   "source": [
    "import re\n",
    "import requests"
   ]
  },
  {
   "cell_type": "code",
   "execution_count": 76,
   "id": "65885b2e-8e86-4cc1-a8ff-10c8436d47bb",
   "metadata": {},
   "outputs": [],
   "source": [
    "link = \"https://adventofcode.com/2023/day/1/input\"\n",
    "f = requests.get(link)\n",
    "data = f.text.splitlines()"
   ]
  },
  {
   "cell_type": "code",
   "execution_count": 78,
   "id": "6825026e-6183-4f7b-a2e0-41c03aeae8ca",
   "metadata": {},
   "outputs": [
    {
     "data": {
      "text/plain": [
       "['Puzzle inputs differ by user.  Please log in to get your puzzle input.']"
      ]
     },
     "execution_count": 78,
     "metadata": {},
     "output_type": "execute_result"
    }
   ],
   "source": [
    "data"
   ]
  },
  {
   "cell_type": "code",
   "execution_count": 73,
   "id": "749fa9df-aa6e-4313-b2f4-1d2959cf3b3e",
   "metadata": {},
   "outputs": [],
   "source": [
    "with open('input.txt') as f:\n",
    "    data = f.read()\n",
    "# data = '''two1nine\n",
    "# eightwothree\n",
    "# abcone2threexyz\n",
    "# xtwone3four\n",
    "# 4nineeightseven2\n",
    "# zoneight234\n",
    "# 7pqrstsixteen'''\n",
    "data = data.splitlines()"
   ]
  },
  {
   "cell_type": "code",
   "execution_count": 51,
   "id": "1ef0c125-9a1d-4c3b-94e1-5bde1bde839a",
   "metadata": {},
   "outputs": [
    {
     "data": {
      "text/plain": [
       "'eigh23'"
      ]
     },
     "execution_count": 51,
     "metadata": {},
     "output_type": "execute_result"
    }
   ],
   "source": [
    "data[1]"
   ]
  },
  {
   "cell_type": "code",
   "execution_count": 69,
   "id": "162509bb-76b5-4a69-8fd8-ed490b03f3fd",
   "metadata": {},
   "outputs": [],
   "source": [
    "num_to_int = {\n",
    "    'one': 1,\n",
    "    'two': 2,\n",
    "    'three': 3,\n",
    "    'four': 4,\n",
    "    'five': 5,\n",
    "    'six':6,\n",
    "    'seven':7,\n",
    "    'eight':8,\n",
    "    'nine':9,\n",
    "    'zero':0,\n",
    "    '1': 1,\n",
    "    '2': 2,\n",
    "    '3': 3,\n",
    "    '4': 4,\n",
    "    '5': 5,\n",
    "    '6':6,\n",
    "    '7':7,\n",
    "    '8':8,\n",
    "    '9':9,\n",
    "    '0':0\n",
    "}    "
   ]
  },
  {
   "cell_type": "code",
   "execution_count": 64,
   "id": "cf2921de-31dd-4bc2-92d9-6895fcdd43e2",
   "metadata": {},
   "outputs": [],
   "source": [
    "first = re.compile('(one|two|three|four|five|six|seven|eight|nine|zero|\\d)')\n",
    "#first = re.compile('^[a-z]*(\\d).*')\n",
    "last = re.compile('.*(one|two|three|four|five|six|seven|eight|nine|zero|\\d)\\w*$')\n",
    "#last = re.compile('.*(\\d)[a-z]*$')"
   ]
  },
  {
   "cell_type": "code",
   "execution_count": 71,
   "id": "10b43fdd-2ee9-487c-baf2-f231ed5dec74",
   "metadata": {},
   "outputs": [
    {
     "name": "stdout",
     "output_type": "stream",
     "text": [
      "2\n",
      "8\n",
      "1\n",
      "2\n",
      "4\n",
      "1\n",
      "7\n"
     ]
    }
   ],
   "source": [
    "for line in data:\n",
    "    print(num_to_int[first.search(line)[1]])"
   ]
  },
  {
   "cell_type": "code",
   "execution_count": null,
   "id": "f5db2bef-3b51-4d07-bff0-650004a1e032",
   "metadata": {},
   "outputs": [],
   "source": []
  },
  {
   "cell_type": "code",
   "execution_count": 74,
   "id": "f94bf70a-da08-42c7-bc9e-966292b0cb36",
   "metadata": {},
   "outputs": [
    {
     "data": {
      "text/plain": [
       "54581"
      ]
     },
     "execution_count": 74,
     "metadata": {},
     "output_type": "execute_result"
    }
   ],
   "source": [
    "s = 0\n",
    "for line in data:    \n",
    "    s += 10 * int(num_to_int[first.search(line)[1]])\n",
    "    s += int(num_to_int[last.search(line)[1]])\n",
    "s"
   ]
  },
  {
   "cell_type": "code",
   "execution_count": 48,
   "id": "4bef20a5-4f99-410a-8714-19055094d46f",
   "metadata": {},
   "outputs": [
    {
     "data": {
      "text/plain": [
       "'827kl'"
      ]
     },
     "execution_count": 48,
     "metadata": {},
     "output_type": "execute_result"
    }
   ],
   "source": [
    "data[1]"
   ]
  },
  {
   "cell_type": "code",
   "execution_count": null,
   "id": "59e69384-6253-4761-b6dc-44a1b37873d2",
   "metadata": {},
   "outputs": [],
   "source": []
  }
 ],
 "metadata": {
  "kernelspec": {
   "display_name": "Python 3 (ipykernel)",
   "language": "python",
   "name": "python3"
  },
  "language_info": {
   "codemirror_mode": {
    "name": "ipython",
    "version": 3
   },
   "file_extension": ".py",
   "mimetype": "text/x-python",
   "name": "python",
   "nbconvert_exporter": "python",
   "pygments_lexer": "ipython3",
   "version": "3.9.13"
  }
 },
 "nbformat": 4,
 "nbformat_minor": 5
}
